{
  "cells": [
    {
      "cell_type": "markdown",
      "metadata": {
        "id": "yEF8MdatZbWU"
      },
      "source": [
        "# **Statistics**\n",
        "## **Population(N)**\n",
        "  Analysis of whole dataset. Appropriate for small dataset.\n",
        "\n",
        "## **Sample(n)**\n",
        "  Analysis of sample form whole dataset. Appropriate for large dataset.\n",
        "\n",
        "## **Types of Statistics**\n",
        "  1. Descriptive\n",
        "  2. Inferential\n",
        "\n",
        "### **Descriptive**: `use of Population(N) for analysis.`\n",
        "  1. Measure of Centeral Tedency(mean,median and mode).\n",
        "  2. Measure of Variability(Range,MAD,Variance and Standard Deviation)\n",
        "  3. Measure of Shape(Skewness).\n",
        "  4. Percentiles(Box plot).\n",
        "  5. Frequency Distribution.\n",
        "  6. Covariance and Correlation.\n",
        "### **Inferential**: `use of Sample(n) for analysis.`\n",
        "  1. Centeral Limit Theorem **.\n",
        "  2. Hypothesis Testing.<br>\n",
        "    1. Z-Test<br>\n",
        "    2. T-Test<br>\n",
        "    3. ChiSquare Testing.\n",
        "  \n",
        "  \n"
      ]
    },
    {
      "cell_type": "markdown",
      "metadata": {},
      "source": [
        "# **Descriptive**: `use of Population(N) for analysis.`"
      ]
    },
    {
      "cell_type": "markdown",
      "metadata": {},
      "source": [
        "## **1. Measure of Centeral Tedency(mean,median and mode).**"
      ]
    },
    {
      "cell_type": "code",
      "execution_count": 1,
      "metadata": {
        "id": "geuvZwc6b9Th"
      },
      "outputs": [],
      "source": [
        "import pandas as pd\n",
        "import numpy as np\n",
        "import matplotlib.pyplot as plt\n",
        "import seaborn as sns"
      ]
    },
    {
      "cell_type": "code",
      "execution_count": 2,
      "metadata": {},
      "outputs": [
        {
          "data": {
            "text/html": [
              "<div>\n",
              "<style scoped>\n",
              "    .dataframe tbody tr th:only-of-type {\n",
              "        vertical-align: middle;\n",
              "    }\n",
              "\n",
              "    .dataframe tbody tr th {\n",
              "        vertical-align: top;\n",
              "    }\n",
              "\n",
              "    .dataframe thead th {\n",
              "        text-align: right;\n",
              "    }\n",
              "</style>\n",
              "<table border=\"1\" class=\"dataframe\">\n",
              "  <thead>\n",
              "    <tr style=\"text-align: right;\">\n",
              "      <th></th>\n",
              "      <th>PassengerId</th>\n",
              "      <th>Survived</th>\n",
              "      <th>Pclass</th>\n",
              "      <th>Name</th>\n",
              "      <th>Sex</th>\n",
              "      <th>Age</th>\n",
              "      <th>SibSp</th>\n",
              "      <th>Parch</th>\n",
              "      <th>Ticket</th>\n",
              "      <th>Fare</th>\n",
              "      <th>Cabin</th>\n",
              "      <th>Embarked</th>\n",
              "    </tr>\n",
              "  </thead>\n",
              "  <tbody>\n",
              "    <tr>\n",
              "      <th>0</th>\n",
              "      <td>1</td>\n",
              "      <td>0</td>\n",
              "      <td>3</td>\n",
              "      <td>Braund, Mr. Owen Harris</td>\n",
              "      <td>male</td>\n",
              "      <td>22.0</td>\n",
              "      <td>1</td>\n",
              "      <td>0</td>\n",
              "      <td>A/5 21171</td>\n",
              "      <td>7.2500</td>\n",
              "      <td>NaN</td>\n",
              "      <td>S</td>\n",
              "    </tr>\n",
              "    <tr>\n",
              "      <th>1</th>\n",
              "      <td>2</td>\n",
              "      <td>1</td>\n",
              "      <td>1</td>\n",
              "      <td>Cumings, Mrs. John Bradley (Florence Briggs Th...</td>\n",
              "      <td>female</td>\n",
              "      <td>38.0</td>\n",
              "      <td>1</td>\n",
              "      <td>0</td>\n",
              "      <td>PC 17599</td>\n",
              "      <td>71.2833</td>\n",
              "      <td>C85</td>\n",
              "      <td>C</td>\n",
              "    </tr>\n",
              "  </tbody>\n",
              "</table>\n",
              "</div>"
            ],
            "text/plain": [
              "   PassengerId  Survived  Pclass  \\\n",
              "0            1         0       3   \n",
              "1            2         1       1   \n",
              "\n",
              "                                                Name     Sex   Age  SibSp  \\\n",
              "0                            Braund, Mr. Owen Harris    male  22.0      1   \n",
              "1  Cumings, Mrs. John Bradley (Florence Briggs Th...  female  38.0      1   \n",
              "\n",
              "   Parch     Ticket     Fare Cabin Embarked  \n",
              "0      0  A/5 21171   7.2500   NaN        S  \n",
              "1      0   PC 17599  71.2833   C85        C  "
            ]
          },
          "execution_count": 2,
          "metadata": {},
          "output_type": "execute_result"
        }
      ],
      "source": [
        "df = pd.read_csv('datasets/titanic.csv')\n",
        "df.head(2)"
      ]
    },
    {
      "cell_type": "code",
      "execution_count": 3,
      "metadata": {},
      "outputs": [
        {
          "data": {
            "text/plain": [
              "PassengerId      0\n",
              "Survived         0\n",
              "Pclass           0\n",
              "Name             0\n",
              "Sex              0\n",
              "Age            177\n",
              "SibSp            0\n",
              "Parch            0\n",
              "Ticket           0\n",
              "Fare             0\n",
              "Cabin          687\n",
              "Embarked         2\n",
              "dtype: int64"
            ]
          },
          "execution_count": 3,
          "metadata": {},
          "output_type": "execute_result"
        }
      ],
      "source": [
        "df.isnull().sum()"
      ]
    },
    {
      "cell_type": "code",
      "execution_count": 4,
      "metadata": {},
      "outputs": [],
      "source": [
        "df.Age.fillna(df.Age.mean(),inplace=True)"
      ]
    },
    {
      "cell_type": "code",
      "execution_count": 5,
      "metadata": {},
      "outputs": [
        {
          "data": {
            "text/plain": [
              "PassengerId      0\n",
              "Survived         0\n",
              "Pclass           0\n",
              "Name             0\n",
              "Sex              0\n",
              "Age              0\n",
              "SibSp            0\n",
              "Parch            0\n",
              "Ticket           0\n",
              "Fare             0\n",
              "Cabin          687\n",
              "Embarked         2\n",
              "dtype: int64"
            ]
          },
          "execution_count": 5,
          "metadata": {},
          "output_type": "execute_result"
        }
      ],
      "source": [
        "df.isnull().sum()"
      ]
    },
    {
      "cell_type": "code",
      "execution_count": 6,
      "metadata": {},
      "outputs": [
        {
          "name": "stdout",
          "output_type": "stream",
          "text": [
            "29.699117647058763\n"
          ]
        },
        {
          "data": {
            "image/png": "[encoded data removed]",
            "text/plain": [
              "<Figure size 432x288 with 1 Axes>"
            ]
          },
          "metadata": {
            "needs_background": "light"
          },
          "output_type": "display_data"
        }
      ],
      "source": [
        "mean_age = df['Age'].mean()\n",
        "print(mean_age)\n",
        "sns.histplot(x='Age', data=df,bins=[i for i in range(0,81,10)])\n",
        "plt.axvline(mean_age, color='red', linestyle='dashed', linewidth=5)\n",
        "plt.show()"
      ]
    },
    {
      "cell_type": "code",
      "execution_count": 7,
      "metadata": {},
      "outputs": [
        {
          "name": "stdout",
          "output_type": "stream",
          "text": [
            "29.69911764705882\n"
          ]
        },
        {
          "data": {
            "image/png": "[encoded data removed]",
            "text/plain": [
              "<Figure size 432x288 with 1 Axes>"
            ]
          },
          "metadata": {
            "needs_background": "light"
          },
          "output_type": "display_data"
        }
      ],
      "source": [
        "median_age = df['Age'].median()\n",
        "print(median_age)\n",
        "sns.histplot(x='Age', data=df,bins=[i for i in range(0,81,10)])\n",
        "plt.axvline(median_age, color='red', linestyle='dashed', linewidth=5)\n",
        "plt.show()"
      ]
    },
    {
      "cell_type": "code",
      "execution_count": 8,
      "metadata": {},
      "outputs": [
        {
          "data": {
            "image/png": "[encoded data removed]",
            "text/plain": [
              "<Figure size 432x288 with 1 Axes>"
            ]
          },
          "metadata": {
            "needs_background": "light"
          },
          "output_type": "display_data"
        }
      ],
      "source": [
        "sns.histplot(x='Fare', data=df,bins=50)\n",
        "plt.axvline(df['Fare'].mean(), color='red', linestyle='dashed', linewidth=5)\n",
        "plt.axvline(df['Fare'].median(), color='blue', linestyle='dashed', linewidth=5)\n",
        "plt.show()"
      ]
    },
    {
      "cell_type": "code",
      "execution_count": 9,
      "metadata": {},
      "outputs": [
        {
          "data": {
            "image/png": "[encoded data removed]",
            "text/plain": [
              "<Figure size 432x288 with 1 Axes>"
            ]
          },
          "metadata": {
            "needs_background": "light"
          },
          "output_type": "display_data"
        }
      ],
      "source": [
        "sns.histplot(x='Fare', data=df,bins=50)\n",
        "plt.axvline(df['Fare'].mean(), color='red', linestyle='dashed',\n",
        " linewidth=2,label='mean')\n",
        "plt.axvline(df['Fare'].median(), color='blue', linestyle='dashed',\n",
        " linewidth=2,label='median')\n",
        "plt.axvline(df['Fare'].mode()[0], color='green',\n",
        " linewidth=2,label='mode')\n",
        "plt.legend()\n",
        "plt.show()"
      ]
    },
    {
      "cell_type": "code",
      "execution_count": 10,
      "metadata": {},
      "outputs": [
        {
          "data": {
            "text/plain": [
              "8.0500     43\n",
              "13.0000    42\n",
              "7.8958     38\n",
              "7.7500     34\n",
              "26.0000    31\n",
              "           ..\n",
              "50.4958     1\n",
              "13.8583     1\n",
              "8.4583      1\n",
              "7.7250      1\n",
              "7.5208      1\n",
              "Name: Fare, Length: 248, dtype: int64"
            ]
          },
          "execution_count": 10,
          "metadata": {},
          "output_type": "execute_result"
        }
      ],
      "source": [
        "#mode is the value having highest frequency in list which is 8.0500\n",
        "df['Fare'].value_counts()\n"
      ]
    },
    {
      "cell_type": "markdown",
      "metadata": {},
      "source": [
        "## **2. Measure of Variability(Range,MAD,Variance and Standard Deviation)**"
      ]
    },
    {
      "cell_type": "markdown",
      "metadata": {},
      "source": [
        "### **1. Range**\n",
        "1. difference between maximum and minimum values"
      ]
    },
    {
      "cell_type": "code",
      "execution_count": 11,
      "metadata": {},
      "outputs": [
        {
          "data": {
            "text/html": [
              "<div>\n",
              "<style scoped>\n",
              "    .dataframe tbody tr th:only-of-type {\n",
              "        vertical-align: middle;\n",
              "    }\n",
              "\n",
              "    .dataframe tbody tr th {\n",
              "        vertical-align: top;\n",
              "    }\n",
              "\n",
              "    .dataframe thead th {\n",
              "        text-align: right;\n",
              "    }\n",
              "</style>\n",
              "<table border=\"1\" class=\"dataframe\">\n",
              "  <thead>\n",
              "    <tr style=\"text-align: right;\">\n",
              "      <th></th>\n",
              "      <th>PassengerId</th>\n",
              "      <th>Survived</th>\n",
              "      <th>Pclass</th>\n",
              "      <th>Name</th>\n",
              "      <th>Sex</th>\n",
              "      <th>Age</th>\n",
              "      <th>SibSp</th>\n",
              "      <th>Parch</th>\n",
              "      <th>Ticket</th>\n",
              "      <th>Fare</th>\n",
              "      <th>Cabin</th>\n",
              "      <th>Embarked</th>\n",
              "    </tr>\n",
              "  </thead>\n",
              "  <tbody>\n",
              "    <tr>\n",
              "      <th>0</th>\n",
              "      <td>1</td>\n",
              "      <td>0</td>\n",
              "      <td>3</td>\n",
              "      <td>Braund, Mr. Owen Harris</td>\n",
              "      <td>male</td>\n",
              "      <td>22.0</td>\n",
              "      <td>1</td>\n",
              "      <td>0</td>\n",
              "      <td>A/5 21171</td>\n",
              "      <td>7.2500</td>\n",
              "      <td>NaN</td>\n",
              "      <td>S</td>\n",
              "    </tr>\n",
              "    <tr>\n",
              "      <th>1</th>\n",
              "      <td>2</td>\n",
              "      <td>1</td>\n",
              "      <td>1</td>\n",
              "      <td>Cumings, Mrs. John Bradley (Florence Briggs Th...</td>\n",
              "      <td>female</td>\n",
              "      <td>38.0</td>\n",
              "      <td>1</td>\n",
              "      <td>0</td>\n",
              "      <td>PC 17599</td>\n",
              "      <td>71.2833</td>\n",
              "      <td>C85</td>\n",
              "      <td>C</td>\n",
              "    </tr>\n",
              "  </tbody>\n",
              "</table>\n",
              "</div>"
            ],
            "text/plain": [
              "   PassengerId  Survived  Pclass  \\\n",
              "0            1         0       3   \n",
              "1            2         1       1   \n",
              "\n",
              "                                                Name     Sex   Age  SibSp  \\\n",
              "0                            Braund, Mr. Owen Harris    male  22.0      1   \n",
              "1  Cumings, Mrs. John Bradley (Florence Briggs Th...  female  38.0      1   \n",
              "\n",
              "   Parch     Ticket     Fare Cabin Embarked  \n",
              "0      0  A/5 21171   7.2500   NaN        S  \n",
              "1      0   PC 17599  71.2833   C85        C  "
            ]
          },
          "execution_count": 11,
          "metadata": {},
          "output_type": "execute_result"
        }
      ],
      "source": [
        "df = pd.read_csv('datasets/titanic.csv')\n",
        "df.head(2)"
      ]
    },
    {
      "cell_type": "code",
      "execution_count": 12,
      "metadata": {},
      "outputs": [
        {
          "data": {
            "text/plain": [
              "(0.42, 80.0)"
            ]
          },
          "execution_count": 12,
          "metadata": {},
          "output_type": "execute_result"
        }
      ],
      "source": [
        "df.Age.min(),df.Age.max()"
      ]
    },
    {
      "cell_type": "code",
      "execution_count": 13,
      "metadata": {},
      "outputs": [
        {
          "data": {
            "text/plain": [
              "79.58"
            ]
          },
          "execution_count": 13,
          "metadata": {},
          "output_type": "execute_result"
        }
      ],
      "source": [
        "Range = df.Age.max() - df.Age.min()\n",
        "Range"
      ]
    },
    {
      "cell_type": "markdown",
      "metadata": {},
      "source": [
        "### **2. Mean Absolute Deviation(MAD)**\n",
        "The mean absolute deviation of a dataset is the average distance between each data point and the mean. It give us an idea about the variability in a dataset."
      ]
    },
    {
      "cell_type": "code",
      "execution_count": 14,
      "metadata": {},
      "outputs": [],
      "source": [
        "\"\"\"\n",
        "Problem statement is we have to select only 1 section form\n",
        "both section for future competition on the basis of marks but as\n",
        "we can observe that both sections give us same mean so we will\n",
        "use MAD for get better one. This help us to pick the group in\n",
        "which spredness is less\n",
        "\"\"\"\n",
        "section_A = np.array([75, 65, 73, 68, 72, 67])\n",
        "section_B = np.array([90, 47, 43, 96, 93, 51])\n",
        "no = np.arange(1,len(section_A)+1)"
      ]
    },
    {
      "cell_type": "code",
      "execution_count": 15,
      "metadata": {},
      "outputs": [],
      "source": [
        "mean = np.mean(section_A)"
      ]
    },
    {
      "cell_type": "code",
      "execution_count": 16,
      "metadata": {},
      "outputs": [
        {
          "data": {
            "image/png": "[encoded data removed]",
            "text/plain": [
              "<Figure size 720x216 with 1 Axes>"
            ]
          },
          "metadata": {
            "needs_background": "light"
          },
          "output_type": "display_data"
        }
      ],
      "source": [
        "plt.figure(figsize=(10,3))\n",
        "plt.scatter(section_A,no,label='section_A')\n",
        "plt.scatter(section_B,no,color='red',label='section_B')\n",
        "plt.axvline(mean,color='blue',label='mean')\n",
        "plt.legend()\n",
        "plt.show()"
      ]
    },
    {
      "cell_type": "code",
      "execution_count": 17,
      "metadata": {},
      "outputs": [
        {
          "name": "stdout",
          "output_type": "stream",
          "text": [
            "Section A MAD:  3.3333333333333335 \n",
            "Section B MAD:  23.0\n",
            "we will select Section_A for competition!\n"
          ]
        }
      ],
      "source": [
        "mad_a = sum(abs(section_A-mean))/len(section_A)\n",
        "mad_b = sum(abs(section_B-mean))/len(section_B)\n",
        "print('Section A MAD: ',mad_a,'\\nSection B MAD: ', mad_b)\n",
        "\n",
        "if mad_a<mad_b:\n",
        "    print(\"we will select Section_A for competition!\")\n",
        "elif mad_a>mad_b:\n",
        "    print(\"we will select Section_B for competition!\")\n",
        "else:\n",
        "    print(\"\"\"MAD is Fail Because both teams have same MAD now we will\n",
        "    use Standard Deviation for team selection\"\"\")"
      ]
    },
    {
      "cell_type": "markdown",
      "metadata": {},
      "source": [
        "### **3.Standard Deviation**\n",
        "The standard deviation is a measure of the amount of variation or dispersion\n",
        "of a set of values. A low standard deviation indicates that the values tend\n",
        "to be close to the mean(also called the expected value) of the set, while a high standard deviation indicates that the values are spread out over a wider \n",
        "range.\n",
        "\n",
        "### **4.Variance**\n",
        "Variance is a measure of how data point differ from the mean. According to \n",
        "layman, a variance is a measure of how far a set of data(numbers) are \n",
        "spread out from their mean(average) value.\n",
        "\n",
        "**(std)^2=variance**"
      ]
    },
    {
      "cell_type": "code",
      "execution_count": 18,
      "metadata": {},
      "outputs": [],
      "source": [
        "section_A = np.array([75, 65, 73, 68, 72, 67])\n",
        "section_B = np.array([90, 47, 43, 96, 93, 51])\n",
        "no = np.arange(1,len(section_A)+1)"
      ]
    },
    {
      "cell_type": "code",
      "execution_count": 19,
      "metadata": {},
      "outputs": [
        {
          "data": {
            "text/plain": [
              "(3.559026084010437, 23.18045153428495)"
            ]
          },
          "execution_count": 19,
          "metadata": {},
          "output_type": "execute_result"
        }
      ],
      "source": [
        "std_a, std_b = np.std(section_A), np.std(section_B)\n",
        "std_a, std_b"
      ]
    },
    {
      "cell_type": "code",
      "execution_count": 20,
      "metadata": {},
      "outputs": [
        {
          "data": {
            "text/plain": [
              "(12.666666666666666, 537.3333333333334)"
            ]
          },
          "execution_count": 20,
          "metadata": {},
          "output_type": "execute_result"
        }
      ],
      "source": [
        "std_a, std_b = np.var(section_A), np.var(section_B)\n",
        "std_a, std_b"
      ]
    },
    {
      "cell_type": "markdown",
      "metadata": {},
      "source": [
        "We will use any of the methods mentioned above to find the spread of the data. Then, we will choose the dataset with the smallest spread from these three methods (MAD, std or var)."
      ]
    },
    {
      "cell_type": "code",
      "execution_count": 21,
      "metadata": {},
      "outputs": [
        {
          "data": {
            "text/html": [
              "<div>\n",
              "<style scoped>\n",
              "    .dataframe tbody tr th:only-of-type {\n",
              "        vertical-align: middle;\n",
              "    }\n",
              "\n",
              "    .dataframe tbody tr th {\n",
              "        vertical-align: top;\n",
              "    }\n",
              "\n",
              "    .dataframe thead th {\n",
              "        text-align: right;\n",
              "    }\n",
              "</style>\n",
              "<table border=\"1\" class=\"dataframe\">\n",
              "  <thead>\n",
              "    <tr style=\"text-align: right;\">\n",
              "      <th></th>\n",
              "      <th>PassengerId</th>\n",
              "      <th>Survived</th>\n",
              "      <th>Pclass</th>\n",
              "      <th>Name</th>\n",
              "      <th>Sex</th>\n",
              "      <th>Age</th>\n",
              "      <th>SibSp</th>\n",
              "      <th>Parch</th>\n",
              "      <th>Ticket</th>\n",
              "      <th>Fare</th>\n",
              "      <th>Cabin</th>\n",
              "      <th>Embarked</th>\n",
              "    </tr>\n",
              "  </thead>\n",
              "  <tbody>\n",
              "    <tr>\n",
              "      <th>0</th>\n",
              "      <td>1</td>\n",
              "      <td>0</td>\n",
              "      <td>3</td>\n",
              "      <td>Braund, Mr. Owen Harris</td>\n",
              "      <td>male</td>\n",
              "      <td>22.0</td>\n",
              "      <td>1</td>\n",
              "      <td>0</td>\n",
              "      <td>A/5 21171</td>\n",
              "      <td>7.2500</td>\n",
              "      <td>NaN</td>\n",
              "      <td>S</td>\n",
              "    </tr>\n",
              "    <tr>\n",
              "      <th>1</th>\n",
              "      <td>2</td>\n",
              "      <td>1</td>\n",
              "      <td>1</td>\n",
              "      <td>Cumings, Mrs. John Bradley (Florence Briggs Th...</td>\n",
              "      <td>female</td>\n",
              "      <td>38.0</td>\n",
              "      <td>1</td>\n",
              "      <td>0</td>\n",
              "      <td>PC 17599</td>\n",
              "      <td>71.2833</td>\n",
              "      <td>C85</td>\n",
              "      <td>C</td>\n",
              "    </tr>\n",
              "  </tbody>\n",
              "</table>\n",
              "</div>"
            ],
            "text/plain": [
              "   PassengerId  Survived  Pclass  \\\n",
              "0            1         0       3   \n",
              "1            2         1       1   \n",
              "\n",
              "                                                Name     Sex   Age  SibSp  \\\n",
              "0                            Braund, Mr. Owen Harris    male  22.0      1   \n",
              "1  Cumings, Mrs. John Bradley (Florence Briggs Th...  female  38.0      1   \n",
              "\n",
              "   Parch     Ticket     Fare Cabin Embarked  \n",
              "0      0  A/5 21171   7.2500   NaN        S  \n",
              "1      0   PC 17599  71.2833   C85        C  "
            ]
          },
          "execution_count": 21,
          "metadata": {},
          "output_type": "execute_result"
        }
      ],
      "source": [
        "dataset = pd.read_csv('datasets/titanic.csv')\n",
        "dataset.head(2)"
      ]
    },
    {
      "cell_type": "code",
      "execution_count": 22,
      "metadata": {},
      "outputs": [
        {
          "data": {
            "text/plain": [
              "211.0191247463081"
            ]
          },
          "execution_count": 22,
          "metadata": {},
          "output_type": "execute_result"
        }
      ],
      "source": [
        "dataset.Age.var() # too much variance"
      ]
    },
    {
      "cell_type": "code",
      "execution_count": 23,
      "metadata": {},
      "outputs": [
        {
          "data": {
            "text/plain": [
              "14.526497332334044"
            ]
          },
          "execution_count": 23,
          "metadata": {},
          "output_type": "execute_result"
        }
      ],
      "source": [
        "dataset.Age.std()"
      ]
    },
    {
      "cell_type": "code",
      "execution_count": 24,
      "metadata": {},
      "outputs": [
        {
          "data": {
            "text/html": [
              "<div>\n",
              "<style scoped>\n",
              "    .dataframe tbody tr th:only-of-type {\n",
              "        vertical-align: middle;\n",
              "    }\n",
              "\n",
              "    .dataframe tbody tr th {\n",
              "        vertical-align: top;\n",
              "    }\n",
              "\n",
              "    .dataframe thead th {\n",
              "        text-align: right;\n",
              "    }\n",
              "</style>\n",
              "<table border=\"1\" class=\"dataframe\">\n",
              "  <thead>\n",
              "    <tr style=\"text-align: right;\">\n",
              "      <th></th>\n",
              "      <th>PassengerId</th>\n",
              "      <th>Survived</th>\n",
              "      <th>Pclass</th>\n",
              "      <th>Age</th>\n",
              "      <th>SibSp</th>\n",
              "      <th>Parch</th>\n",
              "      <th>Fare</th>\n",
              "    </tr>\n",
              "  </thead>\n",
              "  <tbody>\n",
              "    <tr>\n",
              "      <th>count</th>\n",
              "      <td>891.000000</td>\n",
              "      <td>891.000000</td>\n",
              "      <td>891.000000</td>\n",
              "      <td>714.000000</td>\n",
              "      <td>891.000000</td>\n",
              "      <td>891.000000</td>\n",
              "      <td>891.000000</td>\n",
              "    </tr>\n",
              "    <tr>\n",
              "      <th>mean</th>\n",
              "      <td>446.000000</td>\n",
              "      <td>0.383838</td>\n",
              "      <td>2.308642</td>\n",
              "      <td>29.699118</td>\n",
              "      <td>0.523008</td>\n",
              "      <td>0.381594</td>\n",
              "      <td>32.204208</td>\n",
              "    </tr>\n",
              "    <tr>\n",
              "      <th>std</th>\n",
              "      <td>257.353842</td>\n",
              "      <td>0.486592</td>\n",
              "      <td>0.836071</td>\n",
              "      <td>14.526497</td>\n",
              "      <td>1.102743</td>\n",
              "      <td>0.806057</td>\n",
              "      <td>49.693429</td>\n",
              "    </tr>\n",
              "    <tr>\n",
              "      <th>min</th>\n",
              "      <td>1.000000</td>\n",
              "      <td>0.000000</td>\n",
              "      <td>1.000000</td>\n",
              "      <td>0.420000</td>\n",
              "      <td>0.000000</td>\n",
              "      <td>0.000000</td>\n",
              "      <td>0.000000</td>\n",
              "    </tr>\n",
              "    <tr>\n",
              "      <th>25%</th>\n",
              "      <td>223.500000</td>\n",
              "      <td>0.000000</td>\n",
              "      <td>2.000000</td>\n",
              "      <td>20.125000</td>\n",
              "      <td>0.000000</td>\n",
              "      <td>0.000000</td>\n",
              "      <td>7.910400</td>\n",
              "    </tr>\n",
              "    <tr>\n",
              "      <th>50%</th>\n",
              "      <td>446.000000</td>\n",
              "      <td>0.000000</td>\n",
              "      <td>3.000000</td>\n",
              "      <td>28.000000</td>\n",
              "      <td>0.000000</td>\n",
              "      <td>0.000000</td>\n",
              "      <td>14.454200</td>\n",
              "    </tr>\n",
              "    <tr>\n",
              "      <th>75%</th>\n",
              "      <td>668.500000</td>\n",
              "      <td>1.000000</td>\n",
              "      <td>3.000000</td>\n",
              "      <td>38.000000</td>\n",
              "      <td>1.000000</td>\n",
              "      <td>0.000000</td>\n",
              "      <td>31.000000</td>\n",
              "    </tr>\n",
              "    <tr>\n",
              "      <th>max</th>\n",
              "      <td>891.000000</td>\n",
              "      <td>1.000000</td>\n",
              "      <td>3.000000</td>\n",
              "      <td>80.000000</td>\n",
              "      <td>8.000000</td>\n",
              "      <td>6.000000</td>\n",
              "      <td>512.329200</td>\n",
              "    </tr>\n",
              "  </tbody>\n",
              "</table>\n",
              "</div>"
            ],
            "text/plain": [
              "       PassengerId    Survived      Pclass         Age       SibSp  \\\n",
              "count   891.000000  891.000000  891.000000  714.000000  891.000000   \n",
              "mean    446.000000    0.383838    2.308642   29.699118    0.523008   \n",
              "std     257.353842    0.486592    0.836071   14.526497    1.102743   \n",
              "min       1.000000    0.000000    1.000000    0.420000    0.000000   \n",
              "25%     223.500000    0.000000    2.000000   20.125000    0.000000   \n",
              "50%     446.000000    0.000000    3.000000   28.000000    0.000000   \n",
              "75%     668.500000    1.000000    3.000000   38.000000    1.000000   \n",
              "max     891.000000    1.000000    3.000000   80.000000    8.000000   \n",
              "\n",
              "            Parch        Fare  \n",
              "count  891.000000  891.000000  \n",
              "mean     0.381594   32.204208  \n",
              "std      0.806057   49.693429  \n",
              "min      0.000000    0.000000  \n",
              "25%      0.000000    7.910400  \n",
              "50%      0.000000   14.454200  \n",
              "75%      0.000000   31.000000  \n",
              "max      6.000000  512.329200  "
            ]
          },
          "execution_count": 24,
          "metadata": {},
          "output_type": "execute_result"
        }
      ],
      "source": [
        "#best way to see stats use built-in method describe\n",
        "dataset.describe()"
      ]
    },
    {
      "cell_type": "code",
      "execution_count": 25,
      "metadata": {},
      "outputs": [
        {
          "data": {
            "image/png": "[encoded data removed]",
            "text/plain": [
              "<Figure size 432x288 with 1 Axes>"
            ]
          },
          "metadata": {
            "needs_background": "light"
          },
          "output_type": "display_data"
        }
      ],
      "source": [
        "sns.histplot(x='Age',data=dataset)\n",
        "plt.show()"
      ]
    },
    {
      "cell_type": "markdown",
      "metadata": {},
      "source": [
        "## **4. Percentiles and Quartiles**"
      ]
    },
    {
      "cell_type": "markdown",
      "metadata": {},
      "source": [
        "### **1.Percentiles**\n",
        "**Percentiles** are used in statistics to give you a number that describes\n",
        "the values that a given percent of the values are lower than.\n",
        "\n",
        "difference between **Percentage** and **Percentiles**.\n",
        "**Percentage**\n",
        "suppose we took 400 marks in exams out of 500.\n",
        "\n",
        "so, Percentage  = (400/500)*100 =>80%\n",
        "\n",
        "**Percentiles**\n",
        "suppose 100 students appear in exam from which our rank on the basis\n",
        "of marks is 4th.\n",
        "so, percentiles is ((no.students*your_rank)/no.students)*100\n",
        "percentiles = ((100-4)/100)*100 => 96%\n",
        "\n",
        "**Interquartile Range(IQR)**\n",
        "1. We know that percentiles also ranges from 0% to 100%.\n",
        "2. So for IQR we divide it into 4 equal parts 0-25-50-75-100.\n",
        "3. Q1 is 25th Percentile, Q2 is 50th Percentile etc..\n",
        "4. In ML we fetch data and data contains outlier\n",
        "    1. data is [1,2,3,4,5,1000] so 1000 is outlier.\n",
        "5. To find outlier we use **IQR**.Process is foloowing:\n",
        "    1. find Q1(25 percentiles) and Q3(75 percentiles)\n",
        "    2. **IQR = Q3-Q1.**\n",
        "    3. find **minimum** using (Q1-1.5*IQR).\n",
        "    4. find **maximum** using (Q3+1.5*IQR).\n",
        "    5. any datapoint not lie in range of **minimum** and **maximum** is known as outliers.\n",
        "    \n",
        "**Q: Why don't we use percentage instead of percentiles to find outliers?**\n",
        "\n",
        "When identifying outliers in a dataset, using percentiles is more effective and meaningful than using percentages for several reasons:\n",
        "\n",
        "1. Lack of a Fixed Base Value\n",
        "Percentages require a fixed base value to provide meaningful insights. For example, in the case of exam scores, where the total possible score is 100, calculating percentages is straightforward and intuitive. However, in many datasets, such as those involving ages, incomes, or other continuous variables, there isn't a natural or fixed maximum value to serve as a base. This makes percentages less useful because they need a reference point to be meaningful.\n",
        "\n",
        "2. Distribution Considerations\n",
        "Percentiles, on the other hand, are inherently distribution-based. They describe the relative standing of a value within the dataset, providing insights into the data's spread and central tendency. For instance, the 90th percentile indicates that a value is higher than 90% of the other values in the dataset, regardless of the actual range or maximum value.\n",
        "\n",
        "3. Handling Skewed Data\n",
        "Datasets often have skewed distributions with outliers that are much higher or lower than the rest of the data. Percentiles are more robust in handling these situations because they provide a rank-based approach, not influenced by the scale of the data. This is crucial for identifying outliers, as percentiles focus on the position of a value within the distribution rather than its absolute magnitude.\n",
        "\n",
        "4. Relative Comparison\n",
        "Percentiles allow for relative comparison across different datasets or different variables within the same dataset. This is particularly useful in statistical analyses and for making comparisons across diverse datasets. For example, comparing income levels across different regions or age groups is more effectively done using percentiles, as they provide a normalized measure of position.\n",
        "\n",
        "5. Identifying Extremes\n",
        "Using percentiles, you can easily identify extremes in the data. For instance, the top 1% or bottom 1% of values can be marked as outliers. This method is simple and consistent, as opposed to defining a fixed percentage cut-off, which might not adapt well to the data's actual distribution.\n",
        "\n",
        "Conclusion\n",
        "In summary, percentiles are preferred over percentages for identifying outliers because they:\n",
        "\n",
        "Do not require a fixed base value.\n",
        "Provide a rank-based, distribution-aware measure.\n",
        "Are more robust to skewed data.\n",
        "Facilitate relative comparisons.\n",
        "Effectively highlight extreme values.\n",
        "Using percentiles ensures a more accurate and meaningful identification of outliers in diverse datasets, accommodating the varying nature of data distributions and scales.\n"
      ]
    },
    {
      "cell_type": "code",
      "execution_count": 26,
      "metadata": {},
      "outputs": [
        {
          "data": {
            "text/html": [
              "<div>\n",
              "<style scoped>\n",
              "    .dataframe tbody tr th:only-of-type {\n",
              "        vertical-align: middle;\n",
              "    }\n",
              "\n",
              "    .dataframe tbody tr th {\n",
              "        vertical-align: top;\n",
              "    }\n",
              "\n",
              "    .dataframe thead th {\n",
              "        text-align: right;\n",
              "    }\n",
              "</style>\n",
              "<table border=\"1\" class=\"dataframe\">\n",
              "  <thead>\n",
              "    <tr style=\"text-align: right;\">\n",
              "      <th></th>\n",
              "      <th>PassengerId</th>\n",
              "      <th>Survived</th>\n",
              "      <th>Pclass</th>\n",
              "      <th>Name</th>\n",
              "      <th>Sex</th>\n",
              "      <th>Age</th>\n",
              "      <th>SibSp</th>\n",
              "      <th>Parch</th>\n",
              "      <th>Ticket</th>\n",
              "      <th>Fare</th>\n",
              "      <th>Cabin</th>\n",
              "      <th>Embarked</th>\n",
              "    </tr>\n",
              "  </thead>\n",
              "  <tbody>\n",
              "    <tr>\n",
              "      <th>0</th>\n",
              "      <td>1</td>\n",
              "      <td>0</td>\n",
              "      <td>3</td>\n",
              "      <td>Braund, Mr. Owen Harris</td>\n",
              "      <td>male</td>\n",
              "      <td>22.0</td>\n",
              "      <td>1</td>\n",
              "      <td>0</td>\n",
              "      <td>A/5 21171</td>\n",
              "      <td>7.2500</td>\n",
              "      <td>NaN</td>\n",
              "      <td>S</td>\n",
              "    </tr>\n",
              "    <tr>\n",
              "      <th>1</th>\n",
              "      <td>2</td>\n",
              "      <td>1</td>\n",
              "      <td>1</td>\n",
              "      <td>Cumings, Mrs. John Bradley (Florence Briggs Th...</td>\n",
              "      <td>female</td>\n",
              "      <td>38.0</td>\n",
              "      <td>1</td>\n",
              "      <td>0</td>\n",
              "      <td>PC 17599</td>\n",
              "      <td>71.2833</td>\n",
              "      <td>C85</td>\n",
              "      <td>C</td>\n",
              "    </tr>\n",
              "  </tbody>\n",
              "</table>\n",
              "</div>"
            ],
            "text/plain": [
              "   PassengerId  Survived  Pclass  \\\n",
              "0            1         0       3   \n",
              "1            2         1       1   \n",
              "\n",
              "                                                Name     Sex   Age  SibSp  \\\n",
              "0                            Braund, Mr. Owen Harris    male  22.0      1   \n",
              "1  Cumings, Mrs. John Bradley (Florence Briggs Th...  female  38.0      1   \n",
              "\n",
              "   Parch     Ticket     Fare Cabin Embarked  \n",
              "0      0  A/5 21171   7.2500   NaN        S  \n",
              "1      0   PC 17599  71.2833   C85        C  "
            ]
          },
          "execution_count": 26,
          "metadata": {},
          "output_type": "execute_result"
        }
      ],
      "source": [
        "dataset = pd.read_csv('datasets/titanic.csv')\n",
        "dataset.head(2)"
      ]
    },
    {
      "cell_type": "code",
      "execution_count": 27,
      "metadata": {},
      "outputs": [
        {
          "data": {
            "text/plain": [
              "177"
            ]
          },
          "execution_count": 27,
          "metadata": {},
          "output_type": "execute_result"
        }
      ],
      "source": [
        "dataset.isnull().sum()['Age']"
      ]
    },
    {
      "cell_type": "code",
      "execution_count": 28,
      "metadata": {},
      "outputs": [],
      "source": [
        "# as Age have 177 missing values. So , we can fill this using AGe column mean\n",
        "dataset.Age.fillna(dataset.Age.mean(),inplace=True)"
      ]
    },
    {
      "cell_type": "code",
      "execution_count": 29,
      "metadata": {},
      "outputs": [
        {
          "data": {
            "text/plain": [
              "0"
            ]
          },
          "execution_count": 29,
          "metadata": {},
          "output_type": "execute_result"
        }
      ],
      "source": [
        "dataset.isnull().sum()['Age']"
      ]
    },
    {
      "cell_type": "code",
      "execution_count": 30,
      "metadata": {},
      "outputs": [
        {
          "data": {
            "text/plain": [
              "(22.0, 35.0)"
            ]
          },
          "execution_count": 30,
          "metadata": {},
          "output_type": "execute_result"
        }
      ],
      "source": [
        "np.percentile(dataset.Age,25),np.percentile(dataset.Age,75)"
      ]
    },
    {
      "cell_type": "code",
      "execution_count": 31,
      "metadata": {},
      "outputs": [
        {
          "data": {
            "text/plain": [
              "(0.42, 0.42)"
            ]
          },
          "execution_count": 31,
          "metadata": {},
          "output_type": "execute_result"
        }
      ],
      "source": [
        "#minimum percentile or age\n",
        "np.percentile(dataset.Age,0),dataset.Age.min()"
      ]
    },
    {
      "cell_type": "code",
      "execution_count": 32,
      "metadata": {},
      "outputs": [
        {
          "data": {
            "text/plain": [
              "(80.0, 80.0)"
            ]
          },
          "execution_count": 32,
          "metadata": {},
          "output_type": "execute_result"
        }
      ],
      "source": [
        "#maximum percentile or age\n",
        "np.percentile(dataset.Age,100),dataset.Age.max()"
      ]
    },
    {
      "cell_type": "code",
      "execution_count": 33,
      "metadata": {},
      "outputs": [
        {
          "data": {
            "text/plain": [
              "(29.69911764705882, 29.69911764705882)"
            ]
          },
          "execution_count": 33,
          "metadata": {},
          "output_type": "execute_result"
        }
      ],
      "source": [
        "#median percentile or age\n",
        "np.percentile(dataset.Age,50),dataset.Age.median()"
      ]
    },
    {
      "cell_type": "code",
      "execution_count": 34,
      "metadata": {},
      "outputs": [
        {
          "data": {
            "text/plain": [
              "count    891.000000\n",
              "mean      29.699118\n",
              "std       13.002015\n",
              "min        0.420000\n",
              "25%       22.000000\n",
              "50%       29.699118\n",
              "75%       35.000000\n",
              "max       80.000000\n",
              "Name: Age, dtype: float64"
            ]
          },
          "execution_count": 34,
          "metadata": {},
          "output_type": "execute_result"
        }
      ],
      "source": [
        "dataset.Age.describe()"
      ]
    },
    {
      "cell_type": "code",
      "execution_count": 35,
      "metadata": {},
      "outputs": [],
      "source": [
        "#by observing data we can see 75% of data is upto 35 years.\n",
        "#0.42, 22.0, 29.7, 35.0, 80.0\n",
        "#difference between 75% to 100% there is a lot of spreadness\n",
        "# like 0.42 to 35 is 75% of data.\n",
        "# 35 to 80 is only 25% larger gap in ages."
      ]
    },
    {
      "cell_type": "code",
      "execution_count": 36,
      "metadata": {},
      "outputs": [
        {
          "data": {
            "image/png": "[encoded data removed]",
            "text/plain": [
              "<Figure size 432x288 with 1 Axes>"
            ]
          },
          "metadata": {
            "needs_background": "light"
          },
          "output_type": "display_data"
        }
      ],
      "source": [
        "sns.boxplot(\n",
        "    x=\"Age\",\n",
        "    data=dataset\n",
        ");"
      ]
    },
    {
      "cell_type": "markdown",
      "metadata": {},
      "source": [
        "# **3. Measure of Shape(Skewness)**"
      ]
    },
    {
      "cell_type": "markdown",
      "metadata": {},
      "source": [
        "1. Skewness measures the asymmetery of the distribution.\n",
        "2. A skewness valoes of 0 indicates a perfectly symmetrical distribution.\n",
        "3. Positive skewness indicates that the distribution is skewed to the right\n",
        "(i.e, the tail is longer on the right), while negative skewness indicates a\n",
        "left skewness(i.e, the tail is longer on the left).\n",
        "\n",
        "Skewness = sum(x_i - mean_x)^3/((N-1)std^3)"
      ]
    },
    {
      "cell_type": "markdown",
      "metadata": {},
      "source": [
        "## we will use **Frequency & Cumulative distribution**\n",
        "\n",
        "# **6.Frequency Ditribution**\n",
        "A Frequency distribution is a table that shows the number of occurrences of\n",
        "different values in a dataset.\n",
        "### **Cumulative Ditribution**\n",
        "A Cumulative distribution shows the accumulation of frequencies upto a certain point. It is obtained by adding up the frequencies as you move through the\n",
        "values\n",
        "| Value Range | Frequency Distribution | Cumulative Distribution |\n",
        "|-------------|------------------------|-------------------------|\n",
        "| 10-20       | 5                      | 5                       |\n",
        "| 20-30       | 8                      | 13                      |\n",
        "| 30-40       | 12                     | 25                      |\n",
        "| 40-50       | 6                      | 31                      |\n",
        "\n",
        "<br>\n",
        "<img src='images/skewness.PNG' width=600>\n",
        "\n",
        "1. -ve skewed: mean<median<mode.\n",
        "2. no skewness: mean=median=mode.\n",
        "3. +ve skewed: mode<median<mean."
      ]
    },
    {
      "cell_type": "code",
      "execution_count": 37,
      "metadata": {},
      "outputs": [],
      "source": [
        "dataset = pd.read_csv('datasets/titanic.csv')"
      ]
    },
    {
      "cell_type": "code",
      "execution_count": 38,
      "metadata": {},
      "outputs": [
        {
          "data": {
            "text/plain": [
              "0.38910778230082704"
            ]
          },
          "execution_count": 38,
          "metadata": {},
          "output_type": "execute_result"
        }
      ],
      "source": [
        "dataset.Age.skew() # it is positive skewed means skewness>0"
      ]
    },
    {
      "cell_type": "code",
      "execution_count": 39,
      "metadata": {},
      "outputs": [
        {
          "data": {
            "text/plain": [
              "(<AxesSubplot:xlabel='Age', ylabel='Count'>,)"
            ]
          },
          "execution_count": 39,
          "metadata": {},
          "output_type": "execute_result"
        },
        {
          "data": {
            "image/png": "[encoded data removed]",
            "text/plain": [
              "<Figure size 432x288 with 1 Axes>"
            ]
          },
          "metadata": {
            "needs_background": "light"
          },
          "output_type": "display_data"
        }
      ],
      "source": [
        "sns.histplot(\n",
        "    x=\"Age\",\n",
        "    data=dataset\n",
        "),"
      ]
    },
    {
      "cell_type": "code",
      "execution_count": 40,
      "metadata": {},
      "outputs": [
        {
          "name": "stdout",
          "output_type": "stream",
          "text": [
            "                x\n",
            "count  100.000000\n",
            "mean    -6.286889\n",
            "std     90.559290\n",
            "min   -292.177449\n",
            "25%    -55.309071\n",
            "50%     -8.775566\n",
            "75%     56.190590\n",
            "max    214.275636\n",
            "skewness: -0.17644672940711278\n",
            "-ve skewed, mode>median>mean, tail on left side, left skewed\n",
            "mean: -6.286889445391849\n",
            "median: -8.7755655817669\n",
            "mode: -292.1774490050882\n"
          ]
        },
        {
          "data": {
            "image/png": "[encoded data removed]",
            "text/plain": [
              "<Figure size 432x288 with 1 Axes>"
            ]
          },
          "metadata": {
            "needs_background": "light"
          },
          "output_type": "display_data"
        }
      ],
      "source": [
        "#examples\n",
        "data = np.random.normal(0,100,100)\n",
        "df = pd.DataFrame({'x':data})\n",
        "print(df.describe())\n",
        "print('skewness:',df.x.skew())\n",
        "if df.x.skew()>0:\n",
        "    print('+ve skewed, mode<median<mean, tail on right side, right skewed')\n",
        "elif df.x.skew()<0:\n",
        "    print('-ve skewed, mode>median>mean, tail on left side, left skewed')\n",
        "else:\n",
        "    print('no skewness, mode=median=mean')\n",
        "print('mean:',df.x.mean())\n",
        "print('median:',df.x.median())\n",
        "print('mode:',df.x.mode()[0])\n",
        "sns.histplot(x = 'x', data=df);"
      ]
    },
    {
      "cell_type": "code",
      "execution_count": 41,
      "metadata": {},
      "outputs": [
        {
          "name": "stdout",
          "output_type": "stream",
          "text": [
            "              x\n",
            "count  36.00000\n",
            "mean    7.00000\n",
            "std     2.44949\n",
            "min     2.00000\n",
            "25%     5.00000\n",
            "50%     7.00000\n",
            "75%     9.00000\n",
            "max    12.00000\n",
            "mean: 7.0\n",
            "median: 7.0\n",
            "mode: 7\n",
            "skewness: 0.0\n"
          ]
        },
        {
          "data": {
            "image/png": "[encoded data removed]",
            "text/plain": [
              "<Figure size 432x288 with 1 Axes>"
            ]
          },
          "metadata": {
            "needs_background": "light"
          },
          "output_type": "display_data"
        },
        {
          "data": {
            "image/png": "[encoded data removed]",
            "text/plain": [
              "<Figure size 432x288 with 1 Axes>"
            ]
          },
          "metadata": {
            "needs_background": "light"
          },
          "output_type": "display_data"
        }
      ],
      "source": [
        "#examples\n",
        "data = [2,\n",
        "        3,3,\n",
        "        4,4,4,\n",
        "        5,5,5,5,\n",
        "        6,6,6,6,6,\n",
        "        7,7,7,7,7,7,\n",
        "        8,8,8,8,8,\n",
        "        9,9,9,9,\n",
        "        10,10,10,\n",
        "        11,11,\n",
        "        12]\n",
        "df = pd.DataFrame({'x':data})\n",
        "print(df.describe())\n",
        "print('mean:',df.x.mean())\n",
        "print('median:',df.x.median())\n",
        "print('mode:',df.x.mode()[0])\n",
        "print('skewness:',df.x.skew())\n",
        "plt.title('Without using bins')\n",
        "sns.histplot(x = 'x', data=df);\n",
        "plt.show();\n",
        "plt.title(f'using bins={len(set(data))}')\n",
        "sns.histplot(x = 'x', data=df,bins=len(set(data)));"
      ]
    },
    {
      "cell_type": "markdown",
      "metadata": {},
      "source": [
        "# **some other patterns**\n",
        "<img src='images/skewness1.PNG' width=600>"
      ]
    },
    {
      "cell_type": "markdown",
      "metadata": {},
      "source": [
        "# **Random Variables**\n",
        "A Random variable X is a function that assigns a real number to each \n",
        "outcome in the sample space of a random experiments.\n",
        "\n",
        "# **Types:**\n",
        "**1. Discrete Random Variable:** `A random variable that takes on a countable number of distinct values.` \n",
        "\n",
        "**2. Continuous Random Variable:** `A random variable that can take on any value within a given range or interval.`\n",
        "\n",
        "\n",
        "# **Probability**\n",
        "Probability measures the likelihood of a particular outcome or event occuring. It is typically expressed as a number between 0 and 1, where 0 indicates impossibility(event will not occur) and 1 indicates certainty(event will occur).\n",
        "\n",
        "P(A) = Number of times A occurs / Total number of possible outcomes"
      ]
    },
    {
      "cell_type": "code",
      "execution_count": 42,
      "metadata": {},
      "outputs": [
        {
          "name": "stdout",
          "output_type": "stream",
          "text": [
            "{'b': 4, 'g': 3}\n",
            "probability of \"g\" to occur: 0.42857142857142855\n",
            "probability of \"g\" to occur in %: 42.857142857142854 %\n",
            "probability of \"b\" to occur: 0.5714285714285714\n",
            "probability of \"b\" to occur in %: 57.14285714285714 %\n"
          ]
        }
      ],
      "source": [
        "def check_probability(ball,balls):\n",
        "    print(f'probability of \"{ball}\" to occur:',\n",
        "        frquencies[ball]/len(balls))\n",
        "    print(f'probability of \"{ball}\" to occur in %:',\n",
        "        (frquencies[ball]/len(balls))*100,'%')\n",
        "\n",
        "#balls\n",
        "balls = ['g','g','g','b','b','b','b']\n",
        "#want to check the probablity of 'g' balls to occur\n",
        "frquencies = {i:balls.count(i) for i in set(balls)}\n",
        "print(frquencies)\n",
        "check_probability(ball='g',balls=balls)\n",
        "check_probability(ball='b',balls=balls)\n",
        "    "
      ]
    },
    {
      "cell_type": "markdown",
      "metadata": {},
      "source": [
        "# **Probability Distribution**\n",
        "Probability distributions describe how the probabbility of a different outcomes\n",
        "are distributed over the sample space of a random variable.\n",
        "\n",
        "1. Discrete Probability Distribution.\n",
        "2. Continuous Probability Distribution. \n",
        "\n",
        "<img src=\"images/types_of_probability_function.PNG\" width=600>"
      ]
    },
    {
      "cell_type": "code",
      "execution_count": 43,
      "metadata": {},
      "outputs": [
        {
          "data": {
            "text/html": [
              "<div>\n",
              "<style scoped>\n",
              "    .dataframe tbody tr th:only-of-type {\n",
              "        vertical-align: middle;\n",
              "    }\n",
              "\n",
              "    .dataframe tbody tr th {\n",
              "        vertical-align: top;\n",
              "    }\n",
              "\n",
              "    .dataframe thead th {\n",
              "        text-align: right;\n",
              "    }\n",
              "</style>\n",
              "<table border=\"1\" class=\"dataframe\">\n",
              "  <thead>\n",
              "    <tr style=\"text-align: right;\">\n",
              "      <th></th>\n",
              "      <th>outcomes</th>\n",
              "      <th>possibility</th>\n",
              "    </tr>\n",
              "  </thead>\n",
              "  <tbody>\n",
              "    <tr>\n",
              "      <th>0</th>\n",
              "      <td>2</td>\n",
              "      <td>2.777778</td>\n",
              "    </tr>\n",
              "    <tr>\n",
              "      <th>1</th>\n",
              "      <td>3</td>\n",
              "      <td>5.555556</td>\n",
              "    </tr>\n",
              "    <tr>\n",
              "      <th>2</th>\n",
              "      <td>4</td>\n",
              "      <td>8.333333</td>\n",
              "    </tr>\n",
              "    <tr>\n",
              "      <th>3</th>\n",
              "      <td>5</td>\n",
              "      <td>11.111111</td>\n",
              "    </tr>\n",
              "    <tr>\n",
              "      <th>4</th>\n",
              "      <td>6</td>\n",
              "      <td>13.888889</td>\n",
              "    </tr>\n",
              "    <tr>\n",
              "      <th>5</th>\n",
              "      <td>7</td>\n",
              "      <td>16.666667</td>\n",
              "    </tr>\n",
              "    <tr>\n",
              "      <th>6</th>\n",
              "      <td>8</td>\n",
              "      <td>13.888889</td>\n",
              "    </tr>\n",
              "    <tr>\n",
              "      <th>7</th>\n",
              "      <td>9</td>\n",
              "      <td>11.111111</td>\n",
              "    </tr>\n",
              "    <tr>\n",
              "      <th>8</th>\n",
              "      <td>10</td>\n",
              "      <td>8.333333</td>\n",
              "    </tr>\n",
              "    <tr>\n",
              "      <th>9</th>\n",
              "      <td>11</td>\n",
              "      <td>5.555556</td>\n",
              "    </tr>\n",
              "    <tr>\n",
              "      <th>10</th>\n",
              "      <td>12</td>\n",
              "      <td>2.777778</td>\n",
              "    </tr>\n",
              "  </tbody>\n",
              "</table>\n",
              "</div>"
            ],
            "text/plain": [
              "    outcomes  possibility\n",
              "0          2     2.777778\n",
              "1          3     5.555556\n",
              "2          4     8.333333\n",
              "3          5    11.111111\n",
              "4          6    13.888889\n",
              "5          7    16.666667\n",
              "6          8    13.888889\n",
              "7          9    11.111111\n",
              "8         10     8.333333\n",
              "9         11     5.555556\n",
              "10        12     2.777778"
            ]
          },
          "execution_count": 43,
          "metadata": {},
          "output_type": "execute_result"
        }
      ],
      "source": [
        "import pandas as pd\n",
        "import seaborn as sns\n",
        "import matplotlib.pyplot as plt\n",
        "\n",
        "# Create a dictionary with the probabilities of each outcome\n",
        "poss = {\n",
        "    2: 1/36,\n",
        "    3: 2/36,\n",
        "    4: 3/36,\n",
        "    5: 4/36,\n",
        "    6: 5/36,\n",
        "    7: 6/36,\n",
        "    8: 5/36,\n",
        "    9: 4/36,\n",
        "    10: 3/36,\n",
        "    11: 2/36,\n",
        "    12: 1/36,\n",
        "}\n",
        "\n",
        "# Convert the dictionary to a DataFrame\n",
        "df = pd.DataFrame([{'outcomes': k, 'possibility': v*100} for k, v in poss.items()])\n",
        "df\n"
      ]
    },
    {
      "cell_type": "code",
      "execution_count": 44,
      "metadata": {},
      "outputs": [
        {
          "data": {
            "image/png": "[encoded data removed]",
            "text/plain": [
              "<Figure size 432x288 with 1 Axes>"
            ]
          },
          "metadata": {
            "needs_background": "light"
          },
          "output_type": "display_data"
        }
      ],
      "source": [
        "# Plot the data using seaborn\n",
        "sns.barplot(x='outcomes', y='possibility', data=df)\n",
        "\n",
        "# Show the plot\n",
        "plt.xlabel('Outcomes')\n",
        "plt.ylabel('Probability')\n",
        "plt.title('Probability Distribution of Two Dice Roll Outcomes')\n",
        "plt.show()"
      ]
    },
    {
      "cell_type": "markdown",
      "metadata": {},
      "source": [
        "<img src=\"images/probability_distributions.png\" width=600>"
      ]
    },
    {
      "cell_type": "markdown",
      "metadata": {},
      "source": [
        "# **Probability Distribution Functions(PDF, PMF & CDF)**\n",
        "A probability distribution is the mathematical function that gives the probabilities of occurrence of different possible outcomes for an experiment.\n",
        "\n",
        "This is used when we have a large amount of data that cannot be analyzed by a simple probability distribution; instead, we use a probability function.\n",
        "\n",
        "#### **1. Probability Density Function(PDF):**\n",
        "1. Used for `Continuous nature Data`.\n",
        "\n",
        "#### **2. Probability Mass Function(PMF):**\n",
        "1. Used for `Discrete nature Data`.\n",
        "\n",
        "#### **3. Cumulative Density Function(CDF):**\n",
        "1. It is simple used for cumulative sum\n",
        "\n"
      ]
    },
    {
      "cell_type": "markdown",
      "metadata": {},
      "source": [
        "# **Normal Distribution Functions**\n",
        "It known as the Gaussian distribution, is a probability distribution that is \n",
        "symmetric about the mean, showing that data near the mean are more frequent in\n",
        "occurrence than data far from the mean. In graph from, normal distribution will\n",
        "appear as a bell curve.\n",
        "\n",
        "# **Standard Normal Distribution**\n",
        "1. The standard normal distribution, also known as Z distribution or Z-score, is a special case of the normal distribution.\n",
        "2. mean of 0 and standard deviation of 1."
      ]
    },
    {
      "cell_type": "markdown",
      "metadata": {},
      "source": [
        "# **6. Covariance and Correlation**\n",
        "## **What is Covariance?**\n",
        "1. Covariance signifies the direction of the linear relationship between the two variables. By direction we mean if the variables are directly proportional or inversely proportional to each other.\n",
        "2. (Increasing the value of one variable might have a positive or negative impact on the value of the other variable).\n",
        "\n",
        "Cov(x,y)=(∑(x_i-x_mean)*(y_i-y_mean))/N\n",
        "\n",
        "1. we have 2 columns `x` and `y`.\n",
        "2. increase in `x` increase `y` -> +ve covariance\n",
        "3. decrease in `x` increase `y` -> -ve covariance\n",
        "4. increase in `x` decrease `y` -> No covariance\n",
        "5. -inf to +inf.\n",
        "6. If dataset is large than dificult to findout covariance then we will use correlation.\n",
        "\n",
        "## **What is Correlation?**\n",
        "Correlation analysis is a method of statistical evaluation used to study the strength of a relationship between two, numerically measured, continuous variable.\n",
        "\n",
        "correlation = Cov(x,y)/(std_x*std_y)\n",
        "\n",
        "`This formula will convert Covariance value from (-inf to +inf) to (-1 to 1)`\n",
        "\n",
        "1. Divide -1 to 1 into [-1,-0.5,0,0.5,1]\n",
        "2. 0 to 0.5 is weak +ve correlation.\n",
        "3. 0.5 to 1 is strong +ve correlation.\n",
        "4. -0.5 to 0 is weak -ve correlation.\n",
        "5. -1 to -0.5 is strong -ve correlation.\n",
        "\n"
      ]
    },
    {
      "cell_type": "code",
      "execution_count": 45,
      "metadata": {},
      "outputs": [
        {
          "data": {
            "text/html": [
              "<div>\n",
              "<style scoped>\n",
              "    .dataframe tbody tr th:only-of-type {\n",
              "        vertical-align: middle;\n",
              "    }\n",
              "\n",
              "    .dataframe tbody tr th {\n",
              "        vertical-align: top;\n",
              "    }\n",
              "\n",
              "    .dataframe thead th {\n",
              "        text-align: right;\n",
              "    }\n",
              "</style>\n",
              "<table border=\"1\" class=\"dataframe\">\n",
              "  <thead>\n",
              "    <tr style=\"text-align: right;\">\n",
              "      <th></th>\n",
              "      <th>total_bill</th>\n",
              "      <th>tip</th>\n",
              "      <th>sex</th>\n",
              "      <th>smoker</th>\n",
              "      <th>day</th>\n",
              "      <th>time</th>\n",
              "      <th>size</th>\n",
              "    </tr>\n",
              "  </thead>\n",
              "  <tbody>\n",
              "    <tr>\n",
              "      <th>0</th>\n",
              "      <td>16.99</td>\n",
              "      <td>1.01</td>\n",
              "      <td>Female</td>\n",
              "      <td>No</td>\n",
              "      <td>Sun</td>\n",
              "      <td>Dinner</td>\n",
              "      <td>2</td>\n",
              "    </tr>\n",
              "    <tr>\n",
              "      <th>1</th>\n",
              "      <td>10.34</td>\n",
              "      <td>1.66</td>\n",
              "      <td>Male</td>\n",
              "      <td>No</td>\n",
              "      <td>Sun</td>\n",
              "      <td>Dinner</td>\n",
              "      <td>3</td>\n",
              "    </tr>\n",
              "    <tr>\n",
              "      <th>2</th>\n",
              "      <td>21.01</td>\n",
              "      <td>3.50</td>\n",
              "      <td>Male</td>\n",
              "      <td>No</td>\n",
              "      <td>Sun</td>\n",
              "      <td>Dinner</td>\n",
              "      <td>3</td>\n",
              "    </tr>\n",
              "    <tr>\n",
              "      <th>3</th>\n",
              "      <td>23.68</td>\n",
              "      <td>3.31</td>\n",
              "      <td>Male</td>\n",
              "      <td>No</td>\n",
              "      <td>Sun</td>\n",
              "      <td>Dinner</td>\n",
              "      <td>2</td>\n",
              "    </tr>\n",
              "    <tr>\n",
              "      <th>4</th>\n",
              "      <td>24.59</td>\n",
              "      <td>3.61</td>\n",
              "      <td>Female</td>\n",
              "      <td>No</td>\n",
              "      <td>Sun</td>\n",
              "      <td>Dinner</td>\n",
              "      <td>4</td>\n",
              "    </tr>\n",
              "    <tr>\n",
              "      <th>...</th>\n",
              "      <td>...</td>\n",
              "      <td>...</td>\n",
              "      <td>...</td>\n",
              "      <td>...</td>\n",
              "      <td>...</td>\n",
              "      <td>...</td>\n",
              "      <td>...</td>\n",
              "    </tr>\n",
              "    <tr>\n",
              "      <th>239</th>\n",
              "      <td>29.03</td>\n",
              "      <td>5.92</td>\n",
              "      <td>Male</td>\n",
              "      <td>No</td>\n",
              "      <td>Sat</td>\n",
              "      <td>Dinner</td>\n",
              "      <td>3</td>\n",
              "    </tr>\n",
              "    <tr>\n",
              "      <th>240</th>\n",
              "      <td>27.18</td>\n",
              "      <td>2.00</td>\n",
              "      <td>Female</td>\n",
              "      <td>Yes</td>\n",
              "      <td>Sat</td>\n",
              "      <td>Dinner</td>\n",
              "      <td>2</td>\n",
              "    </tr>\n",
              "    <tr>\n",
              "      <th>241</th>\n",
              "      <td>22.67</td>\n",
              "      <td>2.00</td>\n",
              "      <td>Male</td>\n",
              "      <td>Yes</td>\n",
              "      <td>Sat</td>\n",
              "      <td>Dinner</td>\n",
              "      <td>2</td>\n",
              "    </tr>\n",
              "    <tr>\n",
              "      <th>242</th>\n",
              "      <td>17.82</td>\n",
              "      <td>1.75</td>\n",
              "      <td>Male</td>\n",
              "      <td>No</td>\n",
              "      <td>Sat</td>\n",
              "      <td>Dinner</td>\n",
              "      <td>2</td>\n",
              "    </tr>\n",
              "    <tr>\n",
              "      <th>243</th>\n",
              "      <td>18.78</td>\n",
              "      <td>3.00</td>\n",
              "      <td>Female</td>\n",
              "      <td>No</td>\n",
              "      <td>Thur</td>\n",
              "      <td>Dinner</td>\n",
              "      <td>2</td>\n",
              "    </tr>\n",
              "  </tbody>\n",
              "</table>\n",
              "<p>244 rows × 7 columns</p>\n",
              "</div>"
            ],
            "text/plain": [
              "     total_bill   tip     sex smoker   day    time  size\n",
              "0         16.99  1.01  Female     No   Sun  Dinner     2\n",
              "1         10.34  1.66    Male     No   Sun  Dinner     3\n",
              "2         21.01  3.50    Male     No   Sun  Dinner     3\n",
              "3         23.68  3.31    Male     No   Sun  Dinner     2\n",
              "4         24.59  3.61  Female     No   Sun  Dinner     4\n",
              "..          ...   ...     ...    ...   ...     ...   ...\n",
              "239       29.03  5.92    Male     No   Sat  Dinner     3\n",
              "240       27.18  2.00  Female    Yes   Sat  Dinner     2\n",
              "241       22.67  2.00    Male    Yes   Sat  Dinner     2\n",
              "242       17.82  1.75    Male     No   Sat  Dinner     2\n",
              "243       18.78  3.00  Female     No  Thur  Dinner     2\n",
              "\n",
              "[244 rows x 7 columns]"
            ]
          },
          "execution_count": 45,
          "metadata": {},
          "output_type": "execute_result"
        }
      ],
      "source": [
        "dataset = pd.read_csv('datasets/tips.csv')\n",
        "dataset"
      ]
    },
    {
      "cell_type": "code",
      "execution_count": 46,
      "metadata": {},
      "outputs": [
        {
          "data": {
            "text/plain": [
              "total_bill    0\n",
              "tip           0\n",
              "sex           0\n",
              "smoker        0\n",
              "day           0\n",
              "time          0\n",
              "size          0\n",
              "dtype: int64"
            ]
          },
          "execution_count": 46,
          "metadata": {},
          "output_type": "execute_result"
        }
      ],
      "source": [
        "dataset.isnull().sum()"
      ]
    },
    {
      "cell_type": "code",
      "execution_count": 47,
      "metadata": {},
      "outputs": [
        {
          "name": "stdout",
          "output_type": "stream",
          "text": [
            "<class 'pandas.core.frame.DataFrame'>\n",
            "RangeIndex: 244 entries, 0 to 243\n",
            "Data columns (total 7 columns):\n",
            " #   Column      Non-Null Count  Dtype  \n",
            "---  ------      --------------  -----  \n",
            " 0   total_bill  244 non-null    float64\n",
            " 1   tip         244 non-null    float64\n",
            " 2   sex         244 non-null    object \n",
            " 3   smoker      244 non-null    object \n",
            " 4   day         244 non-null    object \n",
            " 5   time        244 non-null    object \n",
            " 6   size        244 non-null    int64  \n",
            "dtypes: float64(2), int64(1), object(4)\n",
            "memory usage: 13.5+ KB\n"
          ]
        }
      ],
      "source": [
        "dataset.info()"
      ]
    },
    {
      "cell_type": "code",
      "execution_count": 48,
      "metadata": {},
      "outputs": [
        {
          "data": {
            "text/html": [
              "<div>\n",
              "<style scoped>\n",
              "    .dataframe tbody tr th:only-of-type {\n",
              "        vertical-align: middle;\n",
              "    }\n",
              "\n",
              "    .dataframe tbody tr th {\n",
              "        vertical-align: top;\n",
              "    }\n",
              "\n",
              "    .dataframe thead th {\n",
              "        text-align: right;\n",
              "    }\n",
              "</style>\n",
              "<table border=\"1\" class=\"dataframe\">\n",
              "  <thead>\n",
              "    <tr style=\"text-align: right;\">\n",
              "      <th></th>\n",
              "      <th>total_bill</th>\n",
              "      <th>tip</th>\n",
              "      <th>size</th>\n",
              "    </tr>\n",
              "  </thead>\n",
              "  <tbody>\n",
              "    <tr>\n",
              "      <th>total_bill</th>\n",
              "      <td>1.000000</td>\n",
              "      <td>0.675734</td>\n",
              "      <td>0.598315</td>\n",
              "    </tr>\n",
              "    <tr>\n",
              "      <th>tip</th>\n",
              "      <td>0.675734</td>\n",
              "      <td>1.000000</td>\n",
              "      <td>0.489299</td>\n",
              "    </tr>\n",
              "    <tr>\n",
              "      <th>size</th>\n",
              "      <td>0.598315</td>\n",
              "      <td>0.489299</td>\n",
              "      <td>1.000000</td>\n",
              "    </tr>\n",
              "  </tbody>\n",
              "</table>\n",
              "</div>"
            ],
            "text/plain": [
              "            total_bill       tip      size\n",
              "total_bill    1.000000  0.675734  0.598315\n",
              "tip           0.675734  1.000000  0.489299\n",
              "size          0.598315  0.489299  1.000000"
            ]
          },
          "execution_count": 48,
          "metadata": {},
          "output_type": "execute_result"
        }
      ],
      "source": [
        "#correlation\n",
        "data_corr = dataset.select_dtypes(['float64','int64']).corr()\n",
        "data_corr"
      ]
    },
    {
      "cell_type": "code",
      "execution_count": 49,
      "metadata": {},
      "outputs": [
        {
          "data": {
            "text/html": [
              "<div>\n",
              "<style scoped>\n",
              "    .dataframe tbody tr th:only-of-type {\n",
              "        vertical-align: middle;\n",
              "    }\n",
              "\n",
              "    .dataframe tbody tr th {\n",
              "        vertical-align: top;\n",
              "    }\n",
              "\n",
              "    .dataframe thead th {\n",
              "        text-align: right;\n",
              "    }\n",
              "</style>\n",
              "<table border=\"1\" class=\"dataframe\">\n",
              "  <thead>\n",
              "    <tr style=\"text-align: right;\">\n",
              "      <th></th>\n",
              "      <th>total_bill</th>\n",
              "      <th>tip</th>\n",
              "      <th>size</th>\n",
              "    </tr>\n",
              "  </thead>\n",
              "  <tbody>\n",
              "    <tr>\n",
              "      <th>total_bill</th>\n",
              "      <td>79.252939</td>\n",
              "      <td>8.323502</td>\n",
              "      <td>5.065983</td>\n",
              "    </tr>\n",
              "    <tr>\n",
              "      <th>tip</th>\n",
              "      <td>8.323502</td>\n",
              "      <td>1.914455</td>\n",
              "      <td>0.643906</td>\n",
              "    </tr>\n",
              "    <tr>\n",
              "      <th>size</th>\n",
              "      <td>5.065983</td>\n",
              "      <td>0.643906</td>\n",
              "      <td>0.904591</td>\n",
              "    </tr>\n",
              "  </tbody>\n",
              "</table>\n",
              "</div>"
            ],
            "text/plain": [
              "            total_bill       tip      size\n",
              "total_bill   79.252939  8.323502  5.065983\n",
              "tip           8.323502  1.914455  0.643906\n",
              "size          5.065983  0.643906  0.904591"
            ]
          },
          "execution_count": 49,
          "metadata": {},
          "output_type": "execute_result"
        }
      ],
      "source": [
        "#covariance\n",
        "data_cov = dataset.select_dtypes(['float64','int64']).cov()\n",
        "data_cov"
      ]
    },
    {
      "cell_type": "code",
      "execution_count": 50,
      "metadata": {},
      "outputs": [
        {
          "data": {
            "image/png": "[encoded data removed]",
            "text/plain": [
              "<Figure size 432x288 with 2 Axes>"
            ]
          },
          "metadata": {
            "needs_background": "light"
          },
          "output_type": "display_data"
        }
      ],
      "source": [
        "sns.heatmap(data=data_corr,annot=True);"
      ]
    },
    {
      "cell_type": "code",
      "execution_count": 51,
      "metadata": {},
      "outputs": [
        {
          "data": {
            "image/png": "[encoded data removed]",
            "text/plain": [
              "<Figure size 432x288 with 2 Axes>"
            ]
          },
          "metadata": {
            "needs_background": "light"
          },
          "output_type": "display_data"
        }
      ],
      "source": [
        "sns.heatmap(data=data_cov,annot=True);"
      ]
    },
    {
      "cell_type": "markdown",
      "metadata": {},
      "source": [
        "# **2nd Type of Statistics: Inferential**: \n",
        "`use of Sample(n) for analysis.`\n",
        "# **Types:**\n",
        "# **1. Centeral Limit Theorem**.\n",
        "The Centeral Limit Theorem(CLT) states that when plotting a sample distribution of means the sample will be equal to the population mean and the sample distribution will approach normal distribution with variance equal to the standard error.\n",
        "\n",
        "1. The sample data must be sampled and selected randomly from population.\n",
        "2. There should not be any multicolinearity in the sampled data which is one sample should not influence the other samples.\n",
        "3. The sample size should be no more than 10% of the population, Generally, sample size greater than 30 (n>30) is considered good."
      ]
    },
    {
      "cell_type": "code",
      "execution_count": 52,
      "metadata": {},
      "outputs": [
        {
          "data": {
            "text/html": [
              "<div>\n",
              "<style scoped>\n",
              "    .dataframe tbody tr th:only-of-type {\n",
              "        vertical-align: middle;\n",
              "    }\n",
              "\n",
              "    .dataframe tbody tr th {\n",
              "        vertical-align: top;\n",
              "    }\n",
              "\n",
              "    .dataframe thead th {\n",
              "        text-align: right;\n",
              "    }\n",
              "</style>\n",
              "<table border=\"1\" class=\"dataframe\">\n",
              "  <thead>\n",
              "    <tr style=\"text-align: right;\">\n",
              "      <th></th>\n",
              "      <th>pop_data</th>\n",
              "    </tr>\n",
              "  </thead>\n",
              "  <tbody>\n",
              "    <tr>\n",
              "      <th>0</th>\n",
              "      <td>64</td>\n",
              "    </tr>\n",
              "    <tr>\n",
              "      <th>1</th>\n",
              "      <td>57</td>\n",
              "    </tr>\n",
              "    <tr>\n",
              "      <th>2</th>\n",
              "      <td>82</td>\n",
              "    </tr>\n",
              "    <tr>\n",
              "      <th>3</th>\n",
              "      <td>38</td>\n",
              "    </tr>\n",
              "    <tr>\n",
              "      <th>4</th>\n",
              "      <td>95</td>\n",
              "    </tr>\n",
              "    <tr>\n",
              "      <th>...</th>\n",
              "      <td>...</td>\n",
              "    </tr>\n",
              "    <tr>\n",
              "      <th>9995</th>\n",
              "      <td>79</td>\n",
              "    </tr>\n",
              "    <tr>\n",
              "      <th>9996</th>\n",
              "      <td>57</td>\n",
              "    </tr>\n",
              "    <tr>\n",
              "      <th>9997</th>\n",
              "      <td>55</td>\n",
              "    </tr>\n",
              "    <tr>\n",
              "      <th>9998</th>\n",
              "      <td>62</td>\n",
              "    </tr>\n",
              "    <tr>\n",
              "      <th>9999</th>\n",
              "      <td>38</td>\n",
              "    </tr>\n",
              "  </tbody>\n",
              "</table>\n",
              "<p>10000 rows × 1 columns</p>\n",
              "</div>"
            ],
            "text/plain": [
              "      pop_data\n",
              "0           64\n",
              "1           57\n",
              "2           82\n",
              "3           38\n",
              "4           95\n",
              "...        ...\n",
              "9995        79\n",
              "9996        57\n",
              "9997        55\n",
              "9998        62\n",
              "9999        38\n",
              "\n",
              "[10000 rows x 1 columns]"
            ]
          },
          "execution_count": 52,
          "metadata": {},
          "output_type": "execute_result"
        }
      ],
      "source": [
        "pop_data = np.random.randint(10,100,10000)\n",
        "pop_table = pd.DataFrame({\"pop_data\":pop_data})\n",
        "pop_table"
      ]
    },
    {
      "cell_type": "code",
      "execution_count": 53,
      "metadata": {},
      "outputs": [
        {
          "data": {
            "image/png": "[encoded data removed]",
            "text/plain": [
              "<Figure size 432x288 with 1 Axes>"
            ]
          },
          "metadata": {
            "needs_background": "light"
          },
          "output_type": "display_data"
        }
      ],
      "source": [
        "sns.kdeplot(x='pop_data',data=pop_table);"
      ]
    },
    {
      "cell_type": "code",
      "execution_count": 54,
      "metadata": {},
      "outputs": [],
      "source": [
        "#CLT indicates that all samples mean from population give us normal distribution\n",
        "samp_mean = []\n",
        "for no_samp in range(100):\n",
        "    samp_mean.append(\n",
        "        pop_table.sample(500,random_state=no_samp).mean()[0]\n",
        "    )"
      ]
    },
    {
      "cell_type": "code",
      "execution_count": 55,
      "metadata": {},
      "outputs": [
        {
          "data": {
            "image/png": "[encoded data removed]",
            "text/plain": [
              "<Figure size 432x288 with 1 Axes>"
            ]
          },
          "metadata": {
            "needs_background": "light"
          },
          "output_type": "display_data"
        }
      ],
      "source": [
        "sns.kdeplot(data=samp_mean);"
      ]
    },
    {
      "cell_type": "code",
      "execution_count": 56,
      "metadata": {},
      "outputs": [
        {
          "data": {
            "text/plain": [
              "54.15584"
            ]
          },
          "execution_count": 56,
          "metadata": {},
          "output_type": "execute_result"
        }
      ],
      "source": [
        "np.array(samp_mean).mean()"
      ]
    },
    {
      "cell_type": "code",
      "execution_count": 57,
      "metadata": {},
      "outputs": [
        {
          "data": {
            "text/plain": [
              "54.2939"
            ]
          },
          "execution_count": 57,
          "metadata": {},
          "output_type": "execute_result"
        }
      ],
      "source": [
        "pop_data.mean()"
      ]
    },
    {
      "cell_type": "markdown",
      "metadata": {},
      "source": [
        "1. taking mean of all sample_means almost equal to population mean.\n",
        "2. It is useful when we are unable to take mean of population then alternatively we take few samples and their means and then take mean of all samples calculated means gives us almot population mean.\n",
        "3. e.g, ([sample1_mean, sample2_mean,...,sample50_mean]).mean().\n",
        "4. make sure sample count should be gretaer than 30 values and should be less than 10% of population."
      ]
    },
    {
      "cell_type": "markdown",
      "metadata": {},
      "source": [
        "# **2. Hypothesis Testing**\n",
        "It is a part of statistical analysis, where we test the assumptions made regarding a population parameter. It is generally used when we were to compare a single group with an external standard and two or more groups with each other.\n",
        "\n",
        "## **Terminology used in Hypothesis Testing:**\n",
        "### **1. Null Hypothesis:**\n",
        "Null hyposthesis is a statistical theory that suggests there is no statistical significance exists between the populations, It is denoted bu H0 and read as H-naught.\n",
        "\n",
        "It said medicine_A==Medicine_B or minor >= or <=.\n",
        "                                            \n",
        "### **2. Alternative Hypothesis:**\n",
        "An Alternative hypothesis suggests there is a single difference between the population parameters. It could be greater or smaller. Basically, It is the contrast of the Null Hypothesis. It is denoted by Ha or H1.\n",
        "\n",
        "Null Hypotesis defends medicine_A that medicine_B is not better than A or both are equal on the other hand Alternative Hypothesis defends B that B is Better than A or Bis not equal to A.\n",
        "\n",
        "# **Types:**\n",
        "1. Z-Test\n",
        "2. T-Test\n",
        "3. Chi-Square Test\n"
      ]
    },
    {
      "cell_type": "markdown",
      "metadata": {},
      "source": [
        "# **Steps of Hypothesis Testing.**\n",
        "1. State null(HO) and alternative(H1) hypothesis.\n",
        "    1. HO must always contains equality(=). H1 always contains difference\n",
        "    (!=,>,<)\n",
        "2. Choose level of significance(a).\n",
        "    <img src='images/testing1.PNG' width=600>\n",
        "3. Find test statistic.\n",
        "    1. Test will select from z,t,chi square.\n",
        "        1. Z and T will be selecting if we are talking about data averages.\n",
        "        2. Z Test will select if\n",
        "            1. population mean is provied.\n",
        "            2. sample mean is provied.\n",
        "            3. population std provided.\n",
        "            4. sample count>=30\n",
        "        3. T Test will select if\n",
        "            1. population mean is provied.\n",
        "            2. sample mean is provied.\n",
        "            3. sample std provided.\n",
        "            4. sample count<30\n",
        "        4. Chi Square will be selecting:\n",
        "            1. when goodness is required means results are perfectly found or not. e.g, if dice is roll and everytime outcome is 1 to 6 then working fine. if everytime 1 is occuring than there is an issue.\n",
        "            2. Or Use for finding relationship between 2 random variables.\n",
        "4. Find critical values.\n",
        "    1. Find Z value or T value.\n",
        "5. Draw your conclusion.\n",
        "    1. H-naught is right or Ha is right."
      ]
    },
    {
      "cell_type": "markdown",
      "metadata": {},
      "source": [
        "<img src=\"images/zTest.PNG\" width=600> "
      ]
    },
    {
      "cell_type": "code",
      "execution_count": 58,
      "metadata": {},
      "outputs": [],
      "source": [
        "import scipy.stats as st"
      ]
    },
    {
      "cell_type": "code",
      "execution_count": 63,
      "metadata": {},
      "outputs": [],
      "source": [
        "s_x = 90 #sample mean\n",
        "p_u = 82 #population mean\n",
        "p_std = 20 #population standard deviation\n",
        "n = 81  #number of samples.\n",
        "ap = 0.05 #alpha"
      ]
    },
    {
      "cell_type": "code",
      "execution_count": 62,
      "metadata": {},
      "outputs": [
        {
          "data": {
            "text/plain": [
              "3.5999999999999996"
            ]
          },
          "execution_count": 62,
          "metadata": {},
          "output_type": "execute_result"
        }
      ],
      "source": [
        "z_cal = (s_x-p_u)/(p_std/np.sqrt(n))\n",
        "z_cal"
      ]
    },
    {
      "cell_type": "code",
      "execution_count": 64,
      "metadata": {},
      "outputs": [
        {
          "data": {
            "text/plain": [
              "1.6448536269514722"
            ]
          },
          "execution_count": 64,
          "metadata": {},
          "output_type": "execute_result"
        }
      ],
      "source": [
        "z_table = st.norm.ppf(1-ap)\n",
        "z_table"
      ]
    },
    {
      "cell_type": "code",
      "execution_count": 65,
      "metadata": {},
      "outputs": [
        {
          "name": "stdout",
          "output_type": "stream",
          "text": [
            "Ha is right\n"
          ]
        }
      ],
      "source": [
        "if z_cal>z_table:\n",
        "    print('Ha is right')\n",
        "else:\n",
        "    print('Ho is right')"
      ]
    },
    {
      "cell_type": "markdown",
      "metadata": {},
      "source": [
        "<img src=\"images/tTest.PNG\" width=600> "
      ]
    },
    {
      "cell_type": "code",
      "execution_count": 73,
      "metadata": {},
      "outputs": [],
      "source": [
        "pop_u = 150 #population mean\n",
        "samp_u = 148 #sample mean\n",
        "n = 25  #no of samples\n",
        "samp_std = 5 #sample standard devation\n",
        "a = 0.05 #alpha\n",
        "df = n-1 #degree of freedom"
      ]
    },
    {
      "cell_type": "code",
      "execution_count": 74,
      "metadata": {},
      "outputs": [
        {
          "data": {
            "text/plain": [
              "-2.0"
            ]
          },
          "execution_count": 74,
          "metadata": {},
          "output_type": "execute_result"
        }
      ],
      "source": [
        "t_cal = (samp_u-pop_u)/(samp_std/np.sqrt(n))\n",
        "t_cal"
      ]
    },
    {
      "cell_type": "code",
      "execution_count": 76,
      "metadata": {},
      "outputs": [
        {
          "data": {
            "text/plain": [
              "-1.7108820799094282"
            ]
          },
          "execution_count": 76,
          "metadata": {},
          "output_type": "execute_result"
        }
      ],
      "source": [
        "t_table = st.t.ppf(a,df)\n",
        "t_table"
      ]
    },
    {
      "cell_type": "code",
      "execution_count": 78,
      "metadata": {},
      "outputs": [
        {
          "name": "stdout",
          "output_type": "stream",
          "text": [
            "Ho is right. company is wrong claiming!\n"
          ]
        }
      ],
      "source": [
        "if t_cal<t_table:\n",
        "    print('Ho is right. company is wrong claiming!')\n",
        "else:\n",
        "    print('Ha is right. company claiming right!')"
      ]
    },
    {
      "cell_type": "markdown",
      "metadata": {},
      "source": [
        "<img src=\"images/chiSquare.png\" width=600>"
      ]
    },
    {
      "cell_type": "code",
      "execution_count": 116,
      "metadata": {},
      "outputs": [],
      "source": [
        "n=6 #sides of dice\n",
        "df = n-1 #degree of freedom\n",
        "a = 0.05 #alpha"
      ]
    },
    {
      "cell_type": "code",
      "execution_count": 117,
      "metadata": {},
      "outputs": [],
      "source": [
        "observations = np.array([22,17,20,26,22,13])\n",
        "expected = np.array([20,20,20,20,20,20])"
      ]
    },
    {
      "cell_type": "code",
      "execution_count": 118,
      "metadata": {},
      "outputs": [
        {
          "data": {
            "text/plain": [
              "5.1000000000000005"
            ]
          },
          "execution_count": 118,
          "metadata": {},
          "output_type": "execute_result"
        }
      ],
      "source": [
        "chi_cal = (np.square(observations-expected)/expected).sum()\n",
        "chi_cal"
      ]
    },
    {
      "cell_type": "code",
      "execution_count": 120,
      "metadata": {},
      "outputs": [
        {
          "data": {
            "text/plain": [
              "11.070497693516351"
            ]
          },
          "execution_count": 120,
          "metadata": {},
          "output_type": "execute_result"
        }
      ],
      "source": [
        "chi_table = st.chi2.ppf(1-a,df)\n",
        "chi_table"
      ]
    },
    {
      "cell_type": "code",
      "execution_count": 121,
      "metadata": {},
      "outputs": [
        {
          "name": "stdout",
          "output_type": "stream",
          "text": [
            "Ho is right. Die is fair\n"
          ]
        }
      ],
      "source": [
        "if chi_table<chi_cal:\n",
        "    print(\"Ha is right. Die is unfair\")\n",
        "else:\n",
        "    print(\"Ho is right. Die is fair\")"
      ]
    },
    {
      "cell_type": "code",
      "execution_count": null,
      "metadata": {},
      "outputs": [],
      "source": []
    },
    {
      "cell_type": "code",
      "execution_count": null,
      "metadata": {},
      "outputs": [],
      "source": []
    }
  ],
  "metadata": {
    "colab": {
      "provenance": []
    },
    "kernelspec": {
      "display_name": "Python 3",
      "name": "python3"
    },
    "language_info": {
      "codemirror_mode": {
        "name": "ipython",
        "version": 3
      },
      "file_extension": ".py",
      "mimetype": "text/x-python",
      "name": "python",
      "nbconvert_exporter": "python",
      "pygments_lexer": "ipython3",
      "version": "3.8.8"
    }
  },
  "nbformat": 4,
  "nbformat_minor": 0
}
